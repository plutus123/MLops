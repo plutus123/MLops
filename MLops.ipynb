{
 "cells": [
  {
   "cell_type": "code",
   "execution_count": 1,
   "id": "cd942126-26ea-4850-8d36-6291772e337c",
   "metadata": {},
   "outputs": [],
   "source": [
    "import matplotlib.pyplot\n",
    "import numpy as np\n",
    "import pandas as pd"
   ]
  },
  {
   "cell_type": "code",
   "execution_count": 2,
   "id": "25abf3ba-98d5-4e62-b5af-4ac09ff02e6c",
   "metadata": {},
   "outputs": [
    {
     "data": {
      "text/html": [
       "<div>\n",
       "<style scoped>\n",
       "    .dataframe tbody tr th:only-of-type {\n",
       "        vertical-align: middle;\n",
       "    }\n",
       "\n",
       "    .dataframe tbody tr th {\n",
       "        vertical-align: top;\n",
       "    }\n",
       "\n",
       "    .dataframe thead th {\n",
       "        text-align: right;\n",
       "    }\n",
       "</style>\n",
       "<table border=\"1\" class=\"dataframe\">\n",
       "  <thead>\n",
       "    <tr style=\"text-align: right;\">\n",
       "      <th></th>\n",
       "      <th>Age</th>\n",
       "      <th>EstimatedSalary</th>\n",
       "      <th>Purchased</th>\n",
       "    </tr>\n",
       "  </thead>\n",
       "  <tbody>\n",
       "    <tr>\n",
       "      <th>0</th>\n",
       "      <td>19</td>\n",
       "      <td>19000</td>\n",
       "      <td>0</td>\n",
       "    </tr>\n",
       "    <tr>\n",
       "      <th>1</th>\n",
       "      <td>35</td>\n",
       "      <td>20000</td>\n",
       "      <td>0</td>\n",
       "    </tr>\n",
       "    <tr>\n",
       "      <th>2</th>\n",
       "      <td>26</td>\n",
       "      <td>43000</td>\n",
       "      <td>0</td>\n",
       "    </tr>\n",
       "    <tr>\n",
       "      <th>3</th>\n",
       "      <td>27</td>\n",
       "      <td>57000</td>\n",
       "      <td>0</td>\n",
       "    </tr>\n",
       "    <tr>\n",
       "      <th>4</th>\n",
       "      <td>19</td>\n",
       "      <td>76000</td>\n",
       "      <td>0</td>\n",
       "    </tr>\n",
       "  </tbody>\n",
       "</table>\n",
       "</div>"
      ],
      "text/plain": [
       "   Age  EstimatedSalary  Purchased\n",
       "0   19            19000          0\n",
       "1   35            20000          0\n",
       "2   26            43000          0\n",
       "3   27            57000          0\n",
       "4   19            76000          0"
      ]
     },
     "execution_count": 2,
     "metadata": {},
     "output_type": "execute_result"
    }
   ],
   "source": [
    "data = pd.read_csv(\"Social_Network_Ads.csv\")\n",
    "data.head()"
   ]
  },
  {
   "cell_type": "code",
   "execution_count": 3,
   "id": "129a88c7-bb7e-4826-8451-a50e83c2e009",
   "metadata": {},
   "outputs": [
    {
     "data": {
      "text/plain": [
       "Age                0\n",
       "EstimatedSalary    0\n",
       "Purchased          0\n",
       "dtype: int64"
      ]
     },
     "execution_count": 3,
     "metadata": {},
     "output_type": "execute_result"
    }
   ],
   "source": [
    "data.isna().sum()"
   ]
  },
  {
   "cell_type": "code",
   "execution_count": 4,
   "id": "fbb40f62-017f-4cf3-86da-c7102755f2ca",
   "metadata": {},
   "outputs": [],
   "source": [
    "X=data.iloc[ : , :-1].values\n",
    "y=data.iloc[ : , -1].values"
   ]
  },
  {
   "cell_type": "code",
   "execution_count": 5,
   "id": "35cd2742",
   "metadata": {},
   "outputs": [],
   "source": [
    "from sklearn.model_selection import train_test_split\n",
    "X_train,X_test,y_train,y_test=train_test_split(X,y,test_size=0.2)\n"
   ]
  },
  {
   "cell_type": "code",
   "execution_count": 6,
   "id": "11118fd2",
   "metadata": {},
   "outputs": [],
   "source": [
    "from sklearn.preprocessing import StandardScaler\n",
    "sc=StandardScaler()\n",
    "X_train=sc.fit_transform(X_train)\n",
    "X_test=sc.transform(X_test)"
   ]
  },
  {
   "cell_type": "code",
   "execution_count": 7,
   "id": "c07a8e78",
   "metadata": {},
   "outputs": [],
   "source": [
    "from sklearn.linear_model import LogisticRegression\n",
    "from sklearn.svm import SVC\n",
    "from sklearn.ensemble import RandomForestClassifier\n",
    "from sklearn.naive_bayes import MultinomialNB\n",
    "from sklearn.model_selection import RandomizedSearchCV\n",
    "\n",
    "import xgboost as xgb\n",
    "from xgboost import XGBClassifier\n",
    "from sklearn.neighbors import KNeighborsClassifier\n",
    "\n",
    "\n"
   ]
  },
  {
   "cell_type": "code",
   "execution_count": 8,
   "id": "418a8d55",
   "metadata": {},
   "outputs": [],
   "source": [
    "def logistic_regression_model(x_train,y_train):\n",
    "    log_reg = LogisticRegression()\n",
    "    log_reg.fit(x_train, y_train)\n",
    "    return log_reg"
   ]
  },
  {
   "cell_type": "code",
   "execution_count": 9,
   "id": "2104d4f0",
   "metadata": {},
   "outputs": [],
   "source": [
    "def Xgboost_model(x_train,y_train):\n",
    "    n_estimators = [50, 100, 150, 200]\n",
    "    max_depth = [2, 4, 6, 8]\n",
    "    learning_rate = [0.0001, 0.001, 0.01, 0.1, 0.2, 0.3]\n",
    "    subsample = [0.1, 0.2, 0.3, 0.4, 0.5, 0.6, 0.7, 0.8, 1.0]\n",
    "    colsample_bytree = [0.1, 0.2, 0.3, 0.4, 0.5, 0.6, 0.7, 0.8, 1.0]\n",
    "    min_child_weight = [1, 2, 3, 4, 5]\n",
    "    gamma = [0, 0.1, 0.2, 0.3, 0.4, 0.5, 0.6, 0.7, 0.8, 0.9]\n",
    "    params = {\n",
    "        \"n_estimators\": n_estimators,\n",
    "        \"max_depth\": max_depth,\n",
    "        \"learning_rate\": learning_rate,\n",
    "        \"subsample\": subsample,\n",
    "        \"colsample_bytree\": colsample_bytree,\n",
    "        \"min_child_weight\": min_child_weight,\n",
    "        \"gamma\": gamma,\n",
    "    }\n",
    "    xgb = XGBClassifier()\n",
    "    clf = RandomizedSearchCV(xgb, params, cv=5, n_jobs=-1)\n",
    "    clf.fit(x_train,y_train)\n",
    "    return clf"
   ]
  },
  {
   "cell_type": "code",
   "execution_count": 10,
   "id": "671f0d87",
   "metadata": {},
   "outputs": [],
   "source": [
    "def svm_model(x_train,y_train):  \n",
    "    C = [0.1, 0.2, 0.3, 0.4, 0.5, 0.6, 0.7, 0.8, 0.9, 1.0]\n",
    "    gamma = [0, 0.1, 0.2, 0.3, 0.4, 0.5, 0.6, 0.7, 0.8, 0.9]\n",
    "    params = {\n",
    "        \"C\": C,\n",
    "        \"gamma\": gamma\n",
    "    }\n",
    "    svm = SVC(probability=True)\n",
    "    clf = RandomizedSearchCV(svm, params, cv=5, n_jobs=-1)\n",
    "    clf.fit(x_train,y_train)\n",
    "    return clf"
   ]
  },
  {
   "cell_type": "code",
   "execution_count": 11,
   "id": "31fa62c1",
   "metadata": {},
   "outputs": [],
   "source": [
    "def random_forest_model(x_train,y_train):\n",
    "    n_estimators = [50, 100, 150, 200]\n",
    "    max_depth = [2, 4, 6, 8]\n",
    "    params = {\n",
    "        \"n_estimators\": n_estimators,\n",
    "        \"max_depth\": max_depth,\n",
    "    }\n",
    "    rf = RandomForestClassifier()\n",
    "    clf = RandomizedSearchCV(rf, params, cv=5, n_jobs=-1)\n",
    "    clf.fit(x_train, y_train)\n",
    "    return clf\n",
    "\n"
   ]
  },
  {
   "cell_type": "code",
   "execution_count": 12,
   "id": "ff9a0d0e",
   "metadata": {},
   "outputs": [],
   "source": [
    "def KNN_model(x_train,y_train): \n",
    "    n_neighbors = [1, 2, 3, 4, 5, 6, 7, 8, 9, 10]\n",
    "    weights = ['uniform', 'distance']\n",
    "    algorithm = ['auto', 'ball_tree', 'kd_tree', 'brute']\n",
    "    leaf_size = [1, 2, 3, 4, 5, 6, 7, 8, 9, 10]\n",
    "    p = [1, 2, 3, 4, 5, 6, 7, 8, 9, 10]\n",
    "    params = {\n",
    "        \"n_neighbors\": n_neighbors,\n",
    "        \"weights\": weights,\n",
    "        \"algorithm\": algorithm,\n",
    "        \"leaf_size\": leaf_size,\n",
    "        \"p\": p,\n",
    "    }\n",
    "    knn = KNeighborsClassifier()\n",
    "    clf = RandomizedSearchCV(knn, params, cv=5, n_jobs=-1)\n",
    "    clf.fit(x_train,y_train)\n",
    "    return clf"
   ]
  },
  {
   "cell_type": "code",
   "execution_count": 13,
   "id": "29f1dabb",
   "metadata": {},
   "outputs": [],
   "source": [
    "lr=logistic_regression_model(X_train,y_train)\n"
   ]
  },
  {
   "cell_type": "code",
   "execution_count": 14,
   "id": "fadf22f3",
   "metadata": {},
   "outputs": [],
   "source": [
    "xgb=Xgboost_model(X_train,y_train)\n"
   ]
  },
  {
   "cell_type": "code",
   "execution_count": 15,
   "id": "df1354af",
   "metadata": {},
   "outputs": [],
   "source": [
    "svm=svm_model(X_train,y_train)\n"
   ]
  },
  {
   "cell_type": "code",
   "execution_count": 16,
   "id": "9afe4774",
   "metadata": {},
   "outputs": [],
   "source": [
    "rf=random_forest_model(X_train,y_train)\n"
   ]
  },
  {
   "cell_type": "code",
   "execution_count": 17,
   "id": "fefd31f9",
   "metadata": {},
   "outputs": [],
   "source": [
    "knn=KNN_model(X_train,y_train)"
   ]
  },
  {
   "cell_type": "code",
   "execution_count": 18,
   "id": "bbc458a9",
   "metadata": {},
   "outputs": [],
   "source": [
    "from sklearn.metrics import (\n",
    "    accuracy_score,\n",
    "    confusion_matrix,\n",
    "    log_loss,\n",
    "    precision_score,\n",
    "    recall_score,\n",
    "    f1_score,\n",
    ")\n",
    "from sklearn.metrics import roc_curve, roc_auc_score\n",
    "\n",
    "\n"
   ]
  },
  {
   "cell_type": "code",
   "execution_count": 19,
   "id": "8f8c1afe",
   "metadata": {},
   "outputs": [],
   "source": [
    "y_pred_lr = lr.predict(X_test)"
   ]
  },
  {
   "cell_type": "code",
   "execution_count": 20,
   "id": "91bd0390",
   "metadata": {},
   "outputs": [],
   "source": [
    "y_pred_xgb = xgb.predict(X_test)"
   ]
  },
  {
   "cell_type": "code",
   "execution_count": 21,
   "id": "0c8cd19d",
   "metadata": {},
   "outputs": [],
   "source": [
    "y_pred_svm = svm.predict(X_test)"
   ]
  },
  {
   "cell_type": "code",
   "execution_count": 22,
   "id": "0d256596",
   "metadata": {},
   "outputs": [],
   "source": [
    "y_pred_rf = rf.predict(X_test)"
   ]
  },
  {
   "cell_type": "code",
   "execution_count": 23,
   "id": "5a2f2bd3",
   "metadata": {},
   "outputs": [],
   "source": [
    "y_pred_knn = knn.predict(X_test)"
   ]
  },
  {
   "cell_type": "code",
   "execution_count": 24,
   "id": "358452cd",
   "metadata": {},
   "outputs": [],
   "source": [
    "y_pred_proba_lr = lr.predict_proba(X_test)"
   ]
  },
  {
   "cell_type": "code",
   "execution_count": 25,
   "id": "6db6f016",
   "metadata": {},
   "outputs": [],
   "source": [
    "y_pred_proba_xgb = xgb.predict_proba(X_test)"
   ]
  },
  {
   "cell_type": "code",
   "execution_count": 26,
   "id": "64714ea3",
   "metadata": {},
   "outputs": [],
   "source": [
    "y_pred_proba_svm = svm.predict_proba(X_test)"
   ]
  },
  {
   "cell_type": "code",
   "execution_count": 27,
   "id": "8775aa56",
   "metadata": {},
   "outputs": [],
   "source": [
    "y_pred_proba_rf = rf.predict_proba(X_test)"
   ]
  },
  {
   "cell_type": "code",
   "execution_count": 28,
   "id": "8088784e",
   "metadata": {},
   "outputs": [],
   "source": [
    "y_pred_proba_knn = knn.predict_proba(X_test)"
   ]
  },
  {
   "cell_type": "code",
   "execution_count": 29,
   "id": "34040455",
   "metadata": {},
   "outputs": [],
   "source": [
    "def evaluate_model(y_test,y_pred,y_pred_proba):\n",
    "    print(\"Accuracy Score:- \", accuracy_score(y_test, y_pred))\n",
    "    print(\"Precision Score:- \", precision_score(y_test, y_pred,zero_division=1))\n",
    "    print(\"Recall Score:- \", recall_score(y_test, y_pred))\n",
    "    print(\"F1 Score:- \", f1_score(y_test, y_pred))\n",
    "    print(\"Log Loss:- \", log_loss(y_test,y_pred_proba))"
   ]
  },
  {
   "cell_type": "code",
   "execution_count": 30,
   "id": "112ebdaa",
   "metadata": {},
   "outputs": [
    {
     "name": "stdout",
     "output_type": "stream",
     "text": [
      "Accuracy Score:-  0.825\n",
      "Precision Score:-  0.8076923076923077\n",
      "Recall Score:-  0.7\n",
      "F1 Score:-  0.75\n",
      "Log Loss:-  0.4325658089953266\n"
     ]
    }
   ],
   "source": [
    "evaluate_model(y_test,y_pred_lr,y_pred_proba_lr)"
   ]
  },
  {
   "cell_type": "code",
   "execution_count": 31,
   "id": "ccd39b55",
   "metadata": {},
   "outputs": [
    {
     "name": "stdout",
     "output_type": "stream",
     "text": [
      "Accuracy Score:-  0.9\n",
      "Precision Score:-  0.8928571428571429\n",
      "Recall Score:-  0.8333333333333334\n",
      "F1 Score:-  0.8620689655172413\n",
      "Log Loss:-  0.3592744220093519\n"
     ]
    }
   ],
   "source": [
    "evaluate_model(y_test,y_pred_xgb,y_pred_proba_xgb)"
   ]
  },
  {
   "cell_type": "code",
   "execution_count": 32,
   "id": "a3ba5f91",
   "metadata": {},
   "outputs": [
    {
     "name": "stdout",
     "output_type": "stream",
     "text": [
      "Accuracy Score:-  0.9125\n",
      "Precision Score:-  0.8709677419354839\n",
      "Recall Score:-  0.9\n",
      "F1 Score:-  0.8852459016393444\n",
      "Log Loss:-  0.2624871671701947\n"
     ]
    }
   ],
   "source": [
    "evaluate_model(y_test,y_pred_svm,y_pred_proba_svm)"
   ]
  },
  {
   "cell_type": "code",
   "execution_count": 33,
   "id": "2ce2fc74",
   "metadata": {},
   "outputs": [
    {
     "name": "stdout",
     "output_type": "stream",
     "text": [
      "Accuracy Score:-  0.925\n",
      "Precision Score:-  0.875\n",
      "Recall Score:-  0.9333333333333333\n",
      "F1 Score:-  0.9032258064516129\n",
      "Log Loss:-  0.35162736570994985\n"
     ]
    }
   ],
   "source": [
    "evaluate_model(y_test,y_pred_rf,y_pred_proba_rf)"
   ]
  },
  {
   "cell_type": "code",
   "execution_count": 34,
   "id": "3e732d8a",
   "metadata": {},
   "outputs": [
    {
     "name": "stdout",
     "output_type": "stream",
     "text": [
      "Accuracy Score:-  0.875\n",
      "Precision Score:-  0.8571428571428571\n",
      "Recall Score:-  0.8\n",
      "F1 Score:-  0.8275862068965518\n",
      "Log Loss:-  1.0922766365428416\n"
     ]
    }
   ],
   "source": [
    "evaluate_model(y_test,y_pred_knn,y_pred_proba_knn)"
   ]
  },
  {
   "cell_type": "code",
   "execution_count": null,
   "id": "50549284",
   "metadata": {},
   "outputs": [],
   "source": []
  },
  {
   "cell_type": "code",
   "execution_count": null,
   "id": "b54c5fb1",
   "metadata": {},
   "outputs": [],
   "source": []
  }
 ],
 "metadata": {
  "kernelspec": {
   "display_name": "Python 3 (ipykernel)",
   "language": "python",
   "name": "python3"
  },
  "language_info": {
   "codemirror_mode": {
    "name": "ipython",
    "version": 3
   },
   "file_extension": ".py",
   "mimetype": "text/x-python",
   "name": "python",
   "nbconvert_exporter": "python",
   "pygments_lexer": "ipython3",
   "version": "3.11.4"
  }
 },
 "nbformat": 4,
 "nbformat_minor": 5
}
